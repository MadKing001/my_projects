{
 "cells": [
  {
   "cell_type": "code",
   "execution_count": 1,
   "id": "a2e0c4ea",
   "metadata": {},
   "outputs": [],
   "source": [
    "import pandas as pd\n",
    "import numpy as np\n",
    "import matplotlib.pyplot as plt\n",
    "%matplotlib inline \n",
    "import seaborn as sns\n",
    "import datetime"
   ]
  },
  {
   "cell_type": "code",
   "execution_count": 5,
   "id": "a3e0c4ea",
   "metadata": {},
   "outputs": [],
   "source": [
    "#df= pd.ExcelFile('BUSY.xls')\n",
    "#df1=pd.read_excel(df,'2010s')\n",
    "#df2=pd.read_excel(df,'1900s')\n",
    "#df3=pd.read_excel(df,'2000s')\"\n",
    "all_data=pd.concat(pd.read_excel('BUSY.xls',sheet_name=None), ignore_index='Year')"
   ]
  },
  {
   "cell_type": "code",
   "execution_count": 4,
   "id": "8789f86b",
   "metadata": {},
   "outputs": [
    {
     "data": {
      "text/html": [
       "<div>\n",
       "<style scoped>\n",
       "    .dataframe tbody tr th:only-of-type {\n",
       "        vertical-align: middle;\n",
       "    }\n",
       "\n",
       "    .dataframe tbody tr th {\n",
       "        vertical-align: top;\n",
       "    }\n",
       "\n",
       "    .dataframe thead th {\n",
       "        text-align: right;\n",
       "    }\n",
       "</style>\n",
       "<table border=\"1\" class=\"dataframe\">\n",
       "  <thead>\n",
       "    <tr style=\"text-align: right;\">\n",
       "      <th></th>\n",
       "      <th>Title</th>\n",
       "      <th>Year</th>\n",
       "      <th>Genres</th>\n",
       "      <th>Language</th>\n",
       "      <th>Country</th>\n",
       "      <th>Content Rating</th>\n",
       "      <th>Duration</th>\n",
       "      <th>Aspect Ratio</th>\n",
       "      <th>Budget</th>\n",
       "      <th>Gross Earnings</th>\n",
       "      <th>...</th>\n",
       "      <th>Facebook Likes - Actor 1</th>\n",
       "      <th>Facebook Likes - Actor 2</th>\n",
       "      <th>Facebook Likes - Actor 3</th>\n",
       "      <th>Facebook Likes - cast Total</th>\n",
       "      <th>Facebook likes - Movie</th>\n",
       "      <th>Facenumber in posters</th>\n",
       "      <th>User Votes</th>\n",
       "      <th>Reviews by Users</th>\n",
       "      <th>Reviews by Crtiics</th>\n",
       "      <th>IMDB Score</th>\n",
       "    </tr>\n",
       "  </thead>\n",
       "  <tbody>\n",
       "    <tr>\n",
       "      <th>0</th>\n",
       "      <td>Intolerance: Love's Struggle Throughout the Ages</td>\n",
       "      <td>1916.0</td>\n",
       "      <td>Drama|History|War</td>\n",
       "      <td>NaN</td>\n",
       "      <td>USA</td>\n",
       "      <td>Not Rated</td>\n",
       "      <td>123.0</td>\n",
       "      <td>1.33</td>\n",
       "      <td>385907.0</td>\n",
       "      <td>NaN</td>\n",
       "      <td>...</td>\n",
       "      <td>436.0</td>\n",
       "      <td>22.0</td>\n",
       "      <td>9.0</td>\n",
       "      <td>481</td>\n",
       "      <td>691</td>\n",
       "      <td>1.0</td>\n",
       "      <td>10718</td>\n",
       "      <td>88.0</td>\n",
       "      <td>69.0</td>\n",
       "      <td>8.0</td>\n",
       "    </tr>\n",
       "    <tr>\n",
       "      <th>1</th>\n",
       "      <td>Over the Hill to the Poorhouse</td>\n",
       "      <td>1920.0</td>\n",
       "      <td>Crime|Drama</td>\n",
       "      <td>NaN</td>\n",
       "      <td>USA</td>\n",
       "      <td>NaN</td>\n",
       "      <td>110.0</td>\n",
       "      <td>1.33</td>\n",
       "      <td>100000.0</td>\n",
       "      <td>3000000.0</td>\n",
       "      <td>...</td>\n",
       "      <td>2.0</td>\n",
       "      <td>2.0</td>\n",
       "      <td>0.0</td>\n",
       "      <td>4</td>\n",
       "      <td>0</td>\n",
       "      <td>1.0</td>\n",
       "      <td>5</td>\n",
       "      <td>1.0</td>\n",
       "      <td>1.0</td>\n",
       "      <td>4.8</td>\n",
       "    </tr>\n",
       "    <tr>\n",
       "      <th>2</th>\n",
       "      <td>The Big Parade</td>\n",
       "      <td>1925.0</td>\n",
       "      <td>Drama|Romance|War</td>\n",
       "      <td>NaN</td>\n",
       "      <td>USA</td>\n",
       "      <td>Not Rated</td>\n",
       "      <td>151.0</td>\n",
       "      <td>1.33</td>\n",
       "      <td>245000.0</td>\n",
       "      <td>NaN</td>\n",
       "      <td>...</td>\n",
       "      <td>81.0</td>\n",
       "      <td>12.0</td>\n",
       "      <td>6.0</td>\n",
       "      <td>108</td>\n",
       "      <td>226</td>\n",
       "      <td>0.0</td>\n",
       "      <td>4849</td>\n",
       "      <td>45.0</td>\n",
       "      <td>48.0</td>\n",
       "      <td>8.3</td>\n",
       "    </tr>\n",
       "    <tr>\n",
       "      <th>3</th>\n",
       "      <td>Metropolis</td>\n",
       "      <td>1927.0</td>\n",
       "      <td>Drama|Sci-Fi</td>\n",
       "      <td>German</td>\n",
       "      <td>Germany</td>\n",
       "      <td>Not Rated</td>\n",
       "      <td>145.0</td>\n",
       "      <td>1.33</td>\n",
       "      <td>6000000.0</td>\n",
       "      <td>26435.0</td>\n",
       "      <td>...</td>\n",
       "      <td>136.0</td>\n",
       "      <td>23.0</td>\n",
       "      <td>18.0</td>\n",
       "      <td>203</td>\n",
       "      <td>12000</td>\n",
       "      <td>1.0</td>\n",
       "      <td>111841</td>\n",
       "      <td>413.0</td>\n",
       "      <td>260.0</td>\n",
       "      <td>8.3</td>\n",
       "    </tr>\n",
       "    <tr>\n",
       "      <th>4</th>\n",
       "      <td>Pandora's Box</td>\n",
       "      <td>1929.0</td>\n",
       "      <td>Crime|Drama|Romance</td>\n",
       "      <td>German</td>\n",
       "      <td>Germany</td>\n",
       "      <td>Not Rated</td>\n",
       "      <td>110.0</td>\n",
       "      <td>1.33</td>\n",
       "      <td>NaN</td>\n",
       "      <td>9950.0</td>\n",
       "      <td>...</td>\n",
       "      <td>426.0</td>\n",
       "      <td>20.0</td>\n",
       "      <td>3.0</td>\n",
       "      <td>455</td>\n",
       "      <td>926</td>\n",
       "      <td>1.0</td>\n",
       "      <td>7431</td>\n",
       "      <td>84.0</td>\n",
       "      <td>71.0</td>\n",
       "      <td>8.0</td>\n",
       "    </tr>\n",
       "    <tr>\n",
       "      <th>...</th>\n",
       "      <td>...</td>\n",
       "      <td>...</td>\n",
       "      <td>...</td>\n",
       "      <td>...</td>\n",
       "      <td>...</td>\n",
       "      <td>...</td>\n",
       "      <td>...</td>\n",
       "      <td>...</td>\n",
       "      <td>...</td>\n",
       "      <td>...</td>\n",
       "      <td>...</td>\n",
       "      <td>...</td>\n",
       "      <td>...</td>\n",
       "      <td>...</td>\n",
       "      <td>...</td>\n",
       "      <td>...</td>\n",
       "      <td>...</td>\n",
       "      <td>...</td>\n",
       "      <td>...</td>\n",
       "      <td>...</td>\n",
       "      <td>...</td>\n",
       "    </tr>\n",
       "    <tr>\n",
       "      <th>5037</th>\n",
       "      <td>War &amp; Peace</td>\n",
       "      <td>NaN</td>\n",
       "      <td>Drama|History|Romance|War</td>\n",
       "      <td>English</td>\n",
       "      <td>UK</td>\n",
       "      <td>TV-14</td>\n",
       "      <td>NaN</td>\n",
       "      <td>16.00</td>\n",
       "      <td>NaN</td>\n",
       "      <td>NaN</td>\n",
       "      <td>...</td>\n",
       "      <td>1000.0</td>\n",
       "      <td>888.0</td>\n",
       "      <td>502.0</td>\n",
       "      <td>4528</td>\n",
       "      <td>11000</td>\n",
       "      <td>1.0</td>\n",
       "      <td>9277</td>\n",
       "      <td>44.0</td>\n",
       "      <td>10.0</td>\n",
       "      <td>8.2</td>\n",
       "    </tr>\n",
       "    <tr>\n",
       "      <th>5038</th>\n",
       "      <td>Wings</td>\n",
       "      <td>NaN</td>\n",
       "      <td>Comedy|Drama</td>\n",
       "      <td>English</td>\n",
       "      <td>USA</td>\n",
       "      <td>NaN</td>\n",
       "      <td>30.0</td>\n",
       "      <td>1.33</td>\n",
       "      <td>NaN</td>\n",
       "      <td>NaN</td>\n",
       "      <td>...</td>\n",
       "      <td>685.0</td>\n",
       "      <td>511.0</td>\n",
       "      <td>424.0</td>\n",
       "      <td>1884</td>\n",
       "      <td>1000</td>\n",
       "      <td>5.0</td>\n",
       "      <td>7646</td>\n",
       "      <td>56.0</td>\n",
       "      <td>19.0</td>\n",
       "      <td>7.3</td>\n",
       "    </tr>\n",
       "    <tr>\n",
       "      <th>5039</th>\n",
       "      <td>Wolf Creek</td>\n",
       "      <td>NaN</td>\n",
       "      <td>Drama|Horror|Thriller</td>\n",
       "      <td>English</td>\n",
       "      <td>Australia</td>\n",
       "      <td>NaN</td>\n",
       "      <td>NaN</td>\n",
       "      <td>2.00</td>\n",
       "      <td>NaN</td>\n",
       "      <td>NaN</td>\n",
       "      <td>...</td>\n",
       "      <td>511.0</td>\n",
       "      <td>457.0</td>\n",
       "      <td>206.0</td>\n",
       "      <td>1617</td>\n",
       "      <td>954</td>\n",
       "      <td>0.0</td>\n",
       "      <td>726</td>\n",
       "      <td>6.0</td>\n",
       "      <td>2.0</td>\n",
       "      <td>7.1</td>\n",
       "    </tr>\n",
       "    <tr>\n",
       "      <th>5040</th>\n",
       "      <td>Wuthering Heights</td>\n",
       "      <td>NaN</td>\n",
       "      <td>Drama|Romance</td>\n",
       "      <td>English</td>\n",
       "      <td>UK</td>\n",
       "      <td>NaN</td>\n",
       "      <td>142.0</td>\n",
       "      <td>NaN</td>\n",
       "      <td>NaN</td>\n",
       "      <td>NaN</td>\n",
       "      <td>...</td>\n",
       "      <td>27000.0</td>\n",
       "      <td>698.0</td>\n",
       "      <td>427.0</td>\n",
       "      <td>29196</td>\n",
       "      <td>0</td>\n",
       "      <td>2.0</td>\n",
       "      <td>6053</td>\n",
       "      <td>33.0</td>\n",
       "      <td>9.0</td>\n",
       "      <td>7.7</td>\n",
       "    </tr>\n",
       "    <tr>\n",
       "      <th>5041</th>\n",
       "      <td>Yu-Gi-Oh! Duel Monsters</td>\n",
       "      <td>NaN</td>\n",
       "      <td>Action|Adventure|Animation|Family|Fantasy</td>\n",
       "      <td>Japanese</td>\n",
       "      <td>Japan</td>\n",
       "      <td>NaN</td>\n",
       "      <td>24.0</td>\n",
       "      <td>NaN</td>\n",
       "      <td>NaN</td>\n",
       "      <td>NaN</td>\n",
       "      <td>...</td>\n",
       "      <td>0.0</td>\n",
       "      <td>NaN</td>\n",
       "      <td>NaN</td>\n",
       "      <td>0</td>\n",
       "      <td>124</td>\n",
       "      <td>0.0</td>\n",
       "      <td>12417</td>\n",
       "      <td>51.0</td>\n",
       "      <td>6.0</td>\n",
       "      <td>7.0</td>\n",
       "    </tr>\n",
       "  </tbody>\n",
       "</table>\n",
       "<p>5042 rows × 25 columns</p>\n",
       "</div>"
      ],
      "text/plain": [
       "                                                  Title    Year  \\\n",
       "0     Intolerance: Love's Struggle Throughout the Ages   1916.0   \n",
       "1                       Over the Hill to the Poorhouse   1920.0   \n",
       "2                                       The Big Parade   1925.0   \n",
       "3                                           Metropolis   1927.0   \n",
       "4                                        Pandora's Box   1929.0   \n",
       "...                                                 ...     ...   \n",
       "5037                           War & Peace                  NaN   \n",
       "5038                                 Wings                  NaN   \n",
       "5039                            Wolf Creek                  NaN   \n",
       "5040                     Wuthering Heights                  NaN   \n",
       "5041               Yu-Gi-Oh! Duel Monsters                  NaN   \n",
       "\n",
       "                                         Genres  Language    Country  \\\n",
       "0                             Drama|History|War       NaN        USA   \n",
       "1                                   Crime|Drama       NaN        USA   \n",
       "2                             Drama|Romance|War       NaN        USA   \n",
       "3                                  Drama|Sci-Fi    German    Germany   \n",
       "4                           Crime|Drama|Romance    German    Germany   \n",
       "...                                         ...       ...        ...   \n",
       "5037                  Drama|History|Romance|War   English         UK   \n",
       "5038                               Comedy|Drama   English        USA   \n",
       "5039                      Drama|Horror|Thriller   English  Australia   \n",
       "5040                              Drama|Romance   English         UK   \n",
       "5041  Action|Adventure|Animation|Family|Fantasy  Japanese      Japan   \n",
       "\n",
       "     Content Rating  Duration  Aspect Ratio     Budget  Gross Earnings  ...  \\\n",
       "0         Not Rated     123.0          1.33   385907.0             NaN  ...   \n",
       "1               NaN     110.0          1.33   100000.0       3000000.0  ...   \n",
       "2         Not Rated     151.0          1.33   245000.0             NaN  ...   \n",
       "3         Not Rated     145.0          1.33  6000000.0         26435.0  ...   \n",
       "4         Not Rated     110.0          1.33        NaN          9950.0  ...   \n",
       "...             ...       ...           ...        ...             ...  ...   \n",
       "5037          TV-14       NaN         16.00        NaN             NaN  ...   \n",
       "5038            NaN      30.0          1.33        NaN             NaN  ...   \n",
       "5039            NaN       NaN          2.00        NaN             NaN  ...   \n",
       "5040            NaN     142.0           NaN        NaN             NaN  ...   \n",
       "5041            NaN      24.0           NaN        NaN             NaN  ...   \n",
       "\n",
       "     Facebook Likes - Actor 1 Facebook Likes - Actor 2  \\\n",
       "0                       436.0                     22.0   \n",
       "1                         2.0                      2.0   \n",
       "2                        81.0                     12.0   \n",
       "3                       136.0                     23.0   \n",
       "4                       426.0                     20.0   \n",
       "...                       ...                      ...   \n",
       "5037                   1000.0                    888.0   \n",
       "5038                    685.0                    511.0   \n",
       "5039                    511.0                    457.0   \n",
       "5040                  27000.0                    698.0   \n",
       "5041                      0.0                      NaN   \n",
       "\n",
       "     Facebook Likes - Actor 3 Facebook Likes - cast Total  \\\n",
       "0                         9.0                         481   \n",
       "1                         0.0                           4   \n",
       "2                         6.0                         108   \n",
       "3                        18.0                         203   \n",
       "4                         3.0                         455   \n",
       "...                       ...                         ...   \n",
       "5037                    502.0                        4528   \n",
       "5038                    424.0                        1884   \n",
       "5039                    206.0                        1617   \n",
       "5040                    427.0                       29196   \n",
       "5041                      NaN                           0   \n",
       "\n",
       "      Facebook likes - Movie  Facenumber in posters  User Votes  \\\n",
       "0                        691                    1.0       10718   \n",
       "1                          0                    1.0           5   \n",
       "2                        226                    0.0        4849   \n",
       "3                      12000                    1.0      111841   \n",
       "4                        926                    1.0        7431   \n",
       "...                      ...                    ...         ...   \n",
       "5037                   11000                    1.0        9277   \n",
       "5038                    1000                    5.0        7646   \n",
       "5039                     954                    0.0         726   \n",
       "5040                       0                    2.0        6053   \n",
       "5041                     124                    0.0       12417   \n",
       "\n",
       "      Reviews by Users  Reviews by Crtiics  IMDB Score  \n",
       "0                 88.0                69.0         8.0  \n",
       "1                  1.0                 1.0         4.8  \n",
       "2                 45.0                48.0         8.3  \n",
       "3                413.0               260.0         8.3  \n",
       "4                 84.0                71.0         8.0  \n",
       "...                ...                 ...         ...  \n",
       "5037              44.0                10.0         8.2  \n",
       "5038              56.0                19.0         7.3  \n",
       "5039               6.0                 2.0         7.1  \n",
       "5040              33.0                 9.0         7.7  \n",
       "5041              51.0                 6.0         7.0  \n",
       "\n",
       "[5042 rows x 25 columns]"
      ]
     },
     "execution_count": 4,
     "metadata": {},
     "output_type": "execute_result"
    }
   ],
   "source": [
    "all_data"
   ]
  },
  {
   "cell_type": "code",
   "execution_count": 242,
   "id": "615f952a",
   "metadata": {},
   "outputs": [
    {
     "ename": "TypeError",
     "evalue": "'tuple' object is not callable",
     "output_type": "error",
     "traceback": [
      "\u001b[1;31m---------------------------------------------------------------------------\u001b[0m",
      "\u001b[1;31mTypeError\u001b[0m                                 Traceback (most recent call last)",
      "\u001b[1;32m~\\AppData\\Local\\Temp/ipykernel_9948/1000397893.py\u001b[0m in \u001b[0;36m<module>\u001b[1;34m\u001b[0m\n\u001b[1;32m----> 1\u001b[1;33m \u001b[0mnan_df\u001b[0m\u001b[1;33m=\u001b[0m\u001b[0mpd\u001b[0m\u001b[1;33m.\u001b[0m\u001b[0mDataFrame\u001b[0m\u001b[1;33m(\u001b[0m\u001b[0mall_data\u001b[0m\u001b[1;33m[\u001b[0m\u001b[0mall_data\u001b[0m\u001b[1;33m.\u001b[0m\u001b[0misna\u001b[0m\u001b[1;33m(\u001b[0m\u001b[1;33m)\u001b[0m\u001b[1;33m.\u001b[0m\u001b[0many\u001b[0m\u001b[1;33m(\u001b[0m\u001b[0maxis\u001b[0m\u001b[1;33m=\u001b[0m\u001b[1;36m1\u001b[0m\u001b[1;33m)\u001b[0m\u001b[1;33m]\u001b[0m\u001b[1;33m)\u001b[0m\u001b[1;33m\u001b[0m\u001b[1;33m\u001b[0m\u001b[0m\n\u001b[0m\u001b[0;32m      2\u001b[0m \u001b[0mnan_df\u001b[0m\u001b[1;33m.\u001b[0m\u001b[0mhead\u001b[0m\u001b[1;33m(\u001b[0m\u001b[1;36m5\u001b[0m\u001b[1;33m)\u001b[0m\u001b[1;33m\u001b[0m\u001b[1;33m\u001b[0m\u001b[0m\n",
      "\u001b[1;31mTypeError\u001b[0m: 'tuple' object is not callable"
     ]
    }
   ],
   "source": [
    "nan_df=pd.DataFrame(all_data[all_data.isna().any(axis=1)])\n",
    "nan_df.head(5)"
   ]
  },
  {
   "cell_type": "code",
   "execution_count": 138,
   "id": "e30f233e",
   "metadata": {},
   "outputs": [
    {
     "data": {
      "text/html": [
       "<div>\n",
       "<style scoped>\n",
       "    .dataframe tbody tr th:only-of-type {\n",
       "        vertical-align: middle;\n",
       "    }\n",
       "\n",
       "    .dataframe tbody tr th {\n",
       "        vertical-align: top;\n",
       "    }\n",
       "\n",
       "    .dataframe thead th {\n",
       "        text-align: right;\n",
       "    }\n",
       "</style>\n",
       "<table border=\"1\" class=\"dataframe\">\n",
       "  <thead>\n",
       "    <tr style=\"text-align: right;\">\n",
       "      <th></th>\n",
       "      <th>Title</th>\n",
       "      <th>Year</th>\n",
       "      <th>Genres</th>\n",
       "      <th>Language</th>\n",
       "      <th>Country</th>\n",
       "      <th>Content Rating</th>\n",
       "      <th>Duration</th>\n",
       "      <th>Aspect Ratio</th>\n",
       "      <th>Budget</th>\n",
       "      <th>Gross Earnings</th>\n",
       "      <th>...</th>\n",
       "      <th>Facebook Likes - Actor 1</th>\n",
       "      <th>Facebook Likes - Actor 2</th>\n",
       "      <th>Facebook Likes - Actor 3</th>\n",
       "      <th>Facebook Likes - cast Total</th>\n",
       "      <th>Facebook likes - Movie</th>\n",
       "      <th>Facenumber in posters</th>\n",
       "      <th>User Votes</th>\n",
       "      <th>Reviews by Users</th>\n",
       "      <th>Reviews by Crtiics</th>\n",
       "      <th>IMDB Score</th>\n",
       "    </tr>\n",
       "  </thead>\n",
       "  <tbody>\n",
       "    <tr>\n",
       "      <th>3</th>\n",
       "      <td>Metropolis</td>\n",
       "      <td>1927.0</td>\n",
       "      <td>Drama|Sci-Fi</td>\n",
       "      <td>German</td>\n",
       "      <td>Germany</td>\n",
       "      <td>Not Rated</td>\n",
       "      <td>145.0</td>\n",
       "      <td>1.33</td>\n",
       "      <td>6000000.0</td>\n",
       "      <td>26435.0</td>\n",
       "      <td>...</td>\n",
       "      <td>136.0</td>\n",
       "      <td>23.0</td>\n",
       "      <td>18.0</td>\n",
       "      <td>203</td>\n",
       "      <td>12000</td>\n",
       "      <td>1.0</td>\n",
       "      <td>111841</td>\n",
       "      <td>413.0</td>\n",
       "      <td>260.0</td>\n",
       "      <td>8.3</td>\n",
       "    </tr>\n",
       "    <tr>\n",
       "      <th>5</th>\n",
       "      <td>The Broadway Melody</td>\n",
       "      <td>1929.0</td>\n",
       "      <td>Musical|Romance</td>\n",
       "      <td>English</td>\n",
       "      <td>USA</td>\n",
       "      <td>Passed</td>\n",
       "      <td>100.0</td>\n",
       "      <td>1.37</td>\n",
       "      <td>379000.0</td>\n",
       "      <td>2808000.0</td>\n",
       "      <td>...</td>\n",
       "      <td>77.0</td>\n",
       "      <td>28.0</td>\n",
       "      <td>4.0</td>\n",
       "      <td>109</td>\n",
       "      <td>167</td>\n",
       "      <td>8.0</td>\n",
       "      <td>4546</td>\n",
       "      <td>71.0</td>\n",
       "      <td>36.0</td>\n",
       "      <td>6.3</td>\n",
       "    </tr>\n",
       "    <tr>\n",
       "      <th>8</th>\n",
       "      <td>42nd Street</td>\n",
       "      <td>1933.0</td>\n",
       "      <td>Comedy|Musical|Romance</td>\n",
       "      <td>English</td>\n",
       "      <td>USA</td>\n",
       "      <td>Unrated</td>\n",
       "      <td>89.0</td>\n",
       "      <td>1.37</td>\n",
       "      <td>439000.0</td>\n",
       "      <td>2300000.0</td>\n",
       "      <td>...</td>\n",
       "      <td>610.0</td>\n",
       "      <td>105.0</td>\n",
       "      <td>45.0</td>\n",
       "      <td>995</td>\n",
       "      <td>439</td>\n",
       "      <td>2.0</td>\n",
       "      <td>7921</td>\n",
       "      <td>97.0</td>\n",
       "      <td>65.0</td>\n",
       "      <td>7.7</td>\n",
       "    </tr>\n",
       "    <tr>\n",
       "      <th>11</th>\n",
       "      <td>Top Hat</td>\n",
       "      <td>1935.0</td>\n",
       "      <td>Comedy|Musical|Romance</td>\n",
       "      <td>English</td>\n",
       "      <td>USA</td>\n",
       "      <td>Approved</td>\n",
       "      <td>81.0</td>\n",
       "      <td>1.37</td>\n",
       "      <td>609000.0</td>\n",
       "      <td>3000000.0</td>\n",
       "      <td>...</td>\n",
       "      <td>610.0</td>\n",
       "      <td>172.0</td>\n",
       "      <td>23.0</td>\n",
       "      <td>824</td>\n",
       "      <td>1000</td>\n",
       "      <td>2.0</td>\n",
       "      <td>13269</td>\n",
       "      <td>98.0</td>\n",
       "      <td>66.0</td>\n",
       "      <td>7.8</td>\n",
       "    </tr>\n",
       "    <tr>\n",
       "      <th>12</th>\n",
       "      <td>Modern Times</td>\n",
       "      <td>1936.0</td>\n",
       "      <td>Comedy|Drama|Family</td>\n",
       "      <td>English</td>\n",
       "      <td>USA</td>\n",
       "      <td>G</td>\n",
       "      <td>87.0</td>\n",
       "      <td>1.37</td>\n",
       "      <td>1500000.0</td>\n",
       "      <td>163245.0</td>\n",
       "      <td>...</td>\n",
       "      <td>309.0</td>\n",
       "      <td>8.0</td>\n",
       "      <td>8.0</td>\n",
       "      <td>352</td>\n",
       "      <td>0</td>\n",
       "      <td>1.0</td>\n",
       "      <td>143086</td>\n",
       "      <td>211.0</td>\n",
       "      <td>120.0</td>\n",
       "      <td>8.6</td>\n",
       "    </tr>\n",
       "  </tbody>\n",
       "</table>\n",
       "<p>5 rows × 25 columns</p>\n",
       "</div>"
      ],
      "text/plain": [
       "                   Title    Year                  Genres Language  Country  \\\n",
       "3            Metropolis   1927.0            Drama|Sci-Fi   German  Germany   \n",
       "5   The Broadway Melody   1929.0         Musical|Romance  English      USA   \n",
       "8           42nd Street   1933.0  Comedy|Musical|Romance  English      USA   \n",
       "11              Top Hat   1935.0  Comedy|Musical|Romance  English      USA   \n",
       "12         Modern Times   1936.0     Comedy|Drama|Family  English      USA   \n",
       "\n",
       "   Content Rating  Duration  Aspect Ratio     Budget  Gross Earnings  ...  \\\n",
       "3       Not Rated     145.0          1.33  6000000.0         26435.0  ...   \n",
       "5          Passed     100.0          1.37   379000.0       2808000.0  ...   \n",
       "8         Unrated      89.0          1.37   439000.0       2300000.0  ...   \n",
       "11       Approved      81.0          1.37   609000.0       3000000.0  ...   \n",
       "12              G      87.0          1.37  1500000.0        163245.0  ...   \n",
       "\n",
       "   Facebook Likes - Actor 1 Facebook Likes - Actor 2 Facebook Likes - Actor 3  \\\n",
       "3                     136.0                     23.0                     18.0   \n",
       "5                      77.0                     28.0                      4.0   \n",
       "8                     610.0                    105.0                     45.0   \n",
       "11                    610.0                    172.0                     23.0   \n",
       "12                    309.0                      8.0                      8.0   \n",
       "\n",
       "   Facebook Likes - cast Total  Facebook likes - Movie  Facenumber in posters  \\\n",
       "3                          203                   12000                    1.0   \n",
       "5                          109                     167                    8.0   \n",
       "8                          995                     439                    2.0   \n",
       "11                         824                    1000                    2.0   \n",
       "12                         352                       0                    1.0   \n",
       "\n",
       "    User Votes  Reviews by Users  Reviews by Crtiics  IMDB Score  \n",
       "3       111841             413.0               260.0         8.3  \n",
       "5         4546              71.0                36.0         6.3  \n",
       "8         7921              97.0                65.0         7.7  \n",
       "11       13269              98.0                66.0         7.8  \n",
       "12      143086             211.0               120.0         8.6  \n",
       "\n",
       "[5 rows x 25 columns]"
      ]
     },
     "execution_count": 138,
     "metadata": {},
     "output_type": "execute_result"
    }
   ],
   "source": [
    "all_data= all_data.dropna(how=\"any\")\n",
    "all_data.head()"
   ]
  },
  {
   "cell_type": "code",
   "execution_count": 213,
   "id": "de25fab5",
   "metadata": {},
   "outputs": [],
   "source": [
    "all_data['Gross Earnings']=all_data['Gross Earnings']*0.001\n",
    "all_data['Budget']=all_data['Budget']*0.001"
   ]
  },
  {
   "cell_type": "code",
   "execution_count": 212,
   "id": "60602343",
   "metadata": {},
   "outputs": [
    {
     "data": {
      "text/plain": [
       "[<matplotlib.lines.Line2D at 0x18fcd14e580>]"
      ]
     },
     "execution_count": 212,
     "metadata": {},
     "output_type": "execute_result"
    },
    {
     "data": {
      "image/png": "[encoded data removed]",
      "text/plain": [
       "<Figure size 432x288 with 1 Axes>"
      ]
     },
     "metadata": {
      "needs_background": "light"
     },
     "output_type": "display_data"
    }
   ],
   "source": [
    "all_data[\"Gross Earnings\"]= pd.to_numeric(all_data['Gross Earnings'])\n",
    "all_data['Year'] = pd.to_numeric(all_data['Year'])\n",
    "plt.plot(all_data['Year'],all_data['Gross Earnings'])"
   ]
  },
  {
   "cell_type": "code",
   "execution_count": 205,
   "id": "59b8cc54",
   "metadata": {},
   "outputs": [
    {
     "data": {
      "text/plain": [
       "0        385907.0\n",
       "1        100000.0\n",
       "2        245000.0\n",
       "3       6000000.0\n",
       "4             NaN\n",
       "          ...    \n",
       "5037          NaN\n",
       "5038          NaN\n",
       "5039          NaN\n",
       "5040          NaN\n",
       "5041          NaN\n",
       "Name: Budget, Length: 5042, dtype: float64"
      ]
     },
     "execution_count": 205,
     "metadata": {},
     "output_type": "execute_result"
    }
   ],
   "source": [
    "\n",
    "    all_data['Budget']= pd.to_numeric(all_data['Budget'])\n",
    "    all_data['Budget']"
   ]
  },
  {
   "cell_type": "code",
   "execution_count": 243,
   "id": "f1be8890",
   "metadata": {},
   "outputs": [
    {
     "ename": "TypeError",
     "evalue": "'tuple' object is not callable",
     "output_type": "error",
     "traceback": [
      "\u001b[1;31m---------------------------------------------------------------------------\u001b[0m",
      "\u001b[1;31mTypeError\u001b[0m                                 Traceback (most recent call last)",
      "\u001b[1;32m~\\AppData\\Local\\Temp/ipykernel_9948/2958257738.py\u001b[0m in \u001b[0;36m<module>\u001b[1;34m\u001b[0m\n\u001b[1;32m----> 1\u001b[1;33m \u001b[0mresults\u001b[0m \u001b[1;33m=\u001b[0m \u001b[0mpd\u001b[0m\u001b[1;33m.\u001b[0m\u001b[0mDataFrame\u001b[0m\u001b[1;33m(\u001b[0m\u001b[0mall_data\u001b[0m\u001b[1;33m[\u001b[0m\u001b[1;34m'Gross Earnings'\u001b[0m\u001b[1;33m]\u001b[0m\u001b[1;33m)\u001b[0m\u001b[1;33m\u001b[0m\u001b[1;33m\u001b[0m\u001b[0m\n\u001b[0m\u001b[0;32m      2\u001b[0m \u001b[0mresults\u001b[0m\u001b[1;33m.\u001b[0m\u001b[0mtail\u001b[0m\u001b[1;33m(\u001b[0m\u001b[1;33m)\u001b[0m\u001b[1;33m\u001b[0m\u001b[1;33m\u001b[0m\u001b[0m\n",
      "\u001b[1;31mTypeError\u001b[0m: 'tuple' object is not callable"
     ]
    }
   ],
   "source": [
    "results = pd.DataFrame(all_data['Gross Earnings'])\n",
    "results.tail()"
   ]
  },
  {
   "cell_type": "code",
   "execution_count": 142,
   "id": "7a1ce3a1",
   "metadata": {},
   "outputs": [
    {
     "data": {
      "text/plain": [
       "<BarContainer object of 3771 artists>"
      ]
     },
     "execution_count": 142,
     "metadata": {},
     "output_type": "execute_result"
    },
    {
     "data": {
      "image/png": "[encoded data removed]",
      "text/plain": [
       "<Figure size 432x288 with 1 Axes>"
      ]
     },
     "metadata": {
      "needs_background": "light"
     },
     "output_type": "display_data"
    }
   ],
   "source": [
    "plt.bar(all_data['Year'],all_data['Budget'])"
   ]
  },
  {
   "cell_type": "code",
   "execution_count": 18,
   "id": "7be33f72",
   "metadata": {},
   "outputs": [
    {
     "data": {
      "text/plain": [
       "[<matplotlib.lines.Line2D at 0x18fad487910>]"
      ]
     },
     "execution_count": 18,
     "metadata": {},
     "output_type": "execute_result"
    },
    {
     "data": {
      "image/png": "[encoded data removed]",
      "text/plain": [
       "<Figure size 432x288 with 1 Axes>"
      ]
     },
     "metadata": {
      "needs_background": "light"
     },
     "output_type": "display_data"
    }
   ],
   "source": [
    "plt.plot(all_d['Budget'],)"
   ]
  },
  {
   "cell_type": "code",
   "execution_count": 244,
   "id": "926225a9",
   "metadata": {},
   "outputs": [],
   "source": [
    "all_d=all_data.groupby('Gross Earnings')[['Title','Duration','Year','Budget']].sum().reset_index()"
   ]
  },
  {
   "cell_type": "code",
   "execution_count": 215,
   "id": "7be3cbd1",
   "metadata": {},
   "outputs": [
    {
     "data": {
      "text/html": [
       "<div>\n",
       "<style scoped>\n",
       "    .dataframe tbody tr th:only-of-type {\n",
       "        vertical-align: middle;\n",
       "    }\n",
       "\n",
       "    .dataframe tbody tr th {\n",
       "        vertical-align: top;\n",
       "    }\n",
       "\n",
       "    .dataframe thead th {\n",
       "        text-align: right;\n",
       "    }\n",
       "</style>\n",
       "<table border=\"1\" class=\"dataframe\">\n",
       "  <thead>\n",
       "    <tr style=\"text-align: right;\">\n",
       "      <th></th>\n",
       "      <th>Gross Earnings</th>\n",
       "      <th>Duration</th>\n",
       "      <th>Year</th>\n",
       "      <th>Budget</th>\n",
       "    </tr>\n",
       "  </thead>\n",
       "  <tbody>\n",
       "    <tr>\n",
       "      <th>0</th>\n",
       "      <td>0.162</td>\n",
       "      <td>96.0</td>\n",
       "      <td>2014.0</td>\n",
       "      <td>9000.0</td>\n",
       "    </tr>\n",
       "    <tr>\n",
       "      <th>1</th>\n",
       "      <td>0.703</td>\n",
       "      <td>96.0</td>\n",
       "      <td>2001.0</td>\n",
       "      <td>1500.0</td>\n",
       "    </tr>\n",
       "    <tr>\n",
       "      <th>2</th>\n",
       "      <td>0.721</td>\n",
       "      <td>88.0</td>\n",
       "      <td>2006.0</td>\n",
       "      <td>1000.0</td>\n",
       "    </tr>\n",
       "    <tr>\n",
       "      <th>3</th>\n",
       "      <td>0.728</td>\n",
       "      <td>100.0</td>\n",
       "      <td>2006.0</td>\n",
       "      <td>0.0</td>\n",
       "    </tr>\n",
       "    <tr>\n",
       "      <th>4</th>\n",
       "      <td>0.828</td>\n",
       "      <td>88.0</td>\n",
       "      <td>2009.0</td>\n",
       "      <td>0.0</td>\n",
       "    </tr>\n",
       "    <tr>\n",
       "      <th>...</th>\n",
       "      <td>...</td>\n",
       "      <td>...</td>\n",
       "      <td>...</td>\n",
       "      <td>...</td>\n",
       "    </tr>\n",
       "    <tr>\n",
       "      <th>4030</th>\n",
       "      <td>533316.061</td>\n",
       "      <td>152.0</td>\n",
       "      <td>2008.0</td>\n",
       "      <td>185000.0</td>\n",
       "    </tr>\n",
       "    <tr>\n",
       "      <th>4031</th>\n",
       "      <td>623279.547</td>\n",
       "      <td>346.0</td>\n",
       "      <td>4024.0</td>\n",
       "      <td>440000.0</td>\n",
       "    </tr>\n",
       "    <tr>\n",
       "      <th>4032</th>\n",
       "      <td>652177.271</td>\n",
       "      <td>124.0</td>\n",
       "      <td>2015.0</td>\n",
       "      <td>150000.0</td>\n",
       "    </tr>\n",
       "    <tr>\n",
       "      <th>4033</th>\n",
       "      <td>658672.302</td>\n",
       "      <td>194.0</td>\n",
       "      <td>1997.0</td>\n",
       "      <td>200000.0</td>\n",
       "    </tr>\n",
       "    <tr>\n",
       "      <th>4034</th>\n",
       "      <td>760505.847</td>\n",
       "      <td>178.0</td>\n",
       "      <td>2009.0</td>\n",
       "      <td>237000.0</td>\n",
       "    </tr>\n",
       "  </tbody>\n",
       "</table>\n",
       "<p>4035 rows × 4 columns</p>\n",
       "</div>"
      ],
      "text/plain": [
       "      Gross Earnings  Duration    Year    Budget\n",
       "0              0.162      96.0  2014.0    9000.0\n",
       "1              0.703      96.0  2001.0    1500.0\n",
       "2              0.721      88.0  2006.0    1000.0\n",
       "3              0.728     100.0  2006.0       0.0\n",
       "4              0.828      88.0  2009.0       0.0\n",
       "...              ...       ...     ...       ...\n",
       "4030      533316.061     152.0  2008.0  185000.0\n",
       "4031      623279.547     346.0  4024.0  440000.0\n",
       "4032      652177.271     124.0  2015.0  150000.0\n",
       "4033      658672.302     194.0  1997.0  200000.0\n",
       "4034      760505.847     178.0  2009.0  237000.0\n",
       "\n",
       "[4035 rows x 4 columns]"
      ]
     },
     "execution_count": 215,
     "metadata": {},
     "output_type": "execute_result"
    }
   ],
   "source": [
    "all_d"
   ]
  },
  {
   "cell_type": "code",
   "execution_count": 70,
   "id": "e4d0393f",
   "metadata": {},
   "outputs": [
    {
     "data": {
      "text/plain": [
       "<seaborn.axisgrid.FacetGrid at 0x18fb1891b50>"
      ]
     },
     "execution_count": 70,
     "metadata": {},
     "output_type": "execute_result"
    },
    {
     "data": {
      "image/png": "[encoded data removed]",
      "text/plain": [
       "<Figure size 360x360 with 1 Axes>"
      ]
     },
     "metadata": {
      "needs_background": "light"
     },
     "output_type": "display_data"
    }
   ],
   "source": [
    "sns.relplot( data=all_d, x='Year', y= 'Gross Earnings', kind='line')"
   ]
  },
  {
   "cell_type": "code",
   "execution_count": 143,
   "id": "7043506c",
   "metadata": {},
   "outputs": [],
   "source": [
    "all_data.drop(['Facebook Likes - Actor 1','Facebook Likes - Actor 2','Facebook Likes - Actor 3','Facebook Likes - cast Total','Facebook likes - Movie','Facenumber in posters','User Votes','Reviews by Users','Reviews by Crtiics','IMDB Score','Director','Actor 1','Actor 2','Actor 3','Facebook Likes - Director'], axis=1, inplace=True)"
   ]
  },
  {
   "cell_type": "code",
   "execution_count": 144,
   "id": "f20e1925",
   "metadata": {},
   "outputs": [],
   "source": [
    "pd.options.mode.chained_assignment=None"
   ]
  },
  {
   "cell_type": "code",
   "execution_count": 63,
   "id": "6fb10664",
   "metadata": {},
   "outputs": [],
   "source": [
    "#all_data.drop(['Actor 1','Actor 2','Actor 3','Facebook Likes - Director'], axis=1, inplace=True)"
   ]
  },
  {
   "cell_type": "code",
   "execution_count": 146,
   "id": "5df9a95e",
   "metadata": {},
   "outputs": [],
   "source": [
    "#all_data.drop(['Gross'], inplace=True, axis=1)"
   ]
  },
  {
   "cell_type": "code",
   "execution_count": 157,
   "id": "4ced893d",
   "metadata": {},
   "outputs": [
    {
     "data": {
      "text/html": [
       "<div>\n",
       "<style scoped>\n",
       "    .dataframe tbody tr th:only-of-type {\n",
       "        vertical-align: middle;\n",
       "    }\n",
       "\n",
       "    .dataframe tbody tr th {\n",
       "        vertical-align: top;\n",
       "    }\n",
       "\n",
       "    .dataframe thead th {\n",
       "        text-align: right;\n",
       "    }\n",
       "</style>\n",
       "<table border=\"1\" class=\"dataframe\">\n",
       "  <thead>\n",
       "    <tr style=\"text-align: right;\">\n",
       "      <th></th>\n",
       "      <th>Title</th>\n",
       "      <th>Year</th>\n",
       "      <th>Genres</th>\n",
       "      <th>Language</th>\n",
       "      <th>Country</th>\n",
       "      <th>Content Rating</th>\n",
       "      <th>Duration</th>\n",
       "      <th>Aspect Ratio</th>\n",
       "      <th>Budget</th>\n",
       "      <th>Gross Earnings</th>\n",
       "    </tr>\n",
       "  </thead>\n",
       "  <tbody>\n",
       "    <tr>\n",
       "      <th>3</th>\n",
       "      <td>Metropolis</td>\n",
       "      <td>1927.0</td>\n",
       "      <td>Drama|Sci-Fi</td>\n",
       "      <td>German</td>\n",
       "      <td>Germany</td>\n",
       "      <td>Not Rated</td>\n",
       "      <td>145.0</td>\n",
       "      <td>1.33</td>\n",
       "      <td>6000.0</td>\n",
       "      <td>26.435</td>\n",
       "    </tr>\n",
       "    <tr>\n",
       "      <th>5</th>\n",
       "      <td>The Broadway Melody</td>\n",
       "      <td>1929.0</td>\n",
       "      <td>Musical|Romance</td>\n",
       "      <td>English</td>\n",
       "      <td>USA</td>\n",
       "      <td>Passed</td>\n",
       "      <td>100.0</td>\n",
       "      <td>1.37</td>\n",
       "      <td>379.0</td>\n",
       "      <td>2808.000</td>\n",
       "    </tr>\n",
       "    <tr>\n",
       "      <th>8</th>\n",
       "      <td>42nd Street</td>\n",
       "      <td>1933.0</td>\n",
       "      <td>Comedy|Musical|Romance</td>\n",
       "      <td>English</td>\n",
       "      <td>USA</td>\n",
       "      <td>Unrated</td>\n",
       "      <td>89.0</td>\n",
       "      <td>1.37</td>\n",
       "      <td>439.0</td>\n",
       "      <td>2300.000</td>\n",
       "    </tr>\n",
       "    <tr>\n",
       "      <th>11</th>\n",
       "      <td>Top Hat</td>\n",
       "      <td>1935.0</td>\n",
       "      <td>Comedy|Musical|Romance</td>\n",
       "      <td>English</td>\n",
       "      <td>USA</td>\n",
       "      <td>Approved</td>\n",
       "      <td>81.0</td>\n",
       "      <td>1.37</td>\n",
       "      <td>609.0</td>\n",
       "      <td>3000.000</td>\n",
       "    </tr>\n",
       "    <tr>\n",
       "      <th>12</th>\n",
       "      <td>Modern Times</td>\n",
       "      <td>1936.0</td>\n",
       "      <td>Comedy|Drama|Family</td>\n",
       "      <td>English</td>\n",
       "      <td>USA</td>\n",
       "      <td>G</td>\n",
       "      <td>87.0</td>\n",
       "      <td>1.37</td>\n",
       "      <td>1500.0</td>\n",
       "      <td>163.245</td>\n",
       "    </tr>\n",
       "  </tbody>\n",
       "</table>\n",
       "</div>"
      ],
      "text/plain": [
       "                   Title    Year                  Genres Language  Country  \\\n",
       "3            Metropolis   1927.0            Drama|Sci-Fi   German  Germany   \n",
       "5   The Broadway Melody   1929.0         Musical|Romance  English      USA   \n",
       "8           42nd Street   1933.0  Comedy|Musical|Romance  English      USA   \n",
       "11              Top Hat   1935.0  Comedy|Musical|Romance  English      USA   \n",
       "12         Modern Times   1936.0     Comedy|Drama|Family  English      USA   \n",
       "\n",
       "   Content Rating  Duration  Aspect Ratio  Budget  Gross Earnings  \n",
       "3       Not Rated     145.0          1.33  6000.0          26.435  \n",
       "5          Passed     100.0          1.37   379.0        2808.000  \n",
       "8         Unrated      89.0          1.37   439.0        2300.000  \n",
       "11       Approved      81.0          1.37   609.0        3000.000  \n",
       "12              G      87.0          1.37  1500.0         163.245  "
      ]
     },
     "execution_count": 157,
     "metadata": {},
     "output_type": "execute_result"
    }
   ],
   "source": [
    "all_data.head()"
   ]
  },
  {
   "cell_type": "code",
   "execution_count": 160,
   "id": "a0aeb6d6",
   "metadata": {},
   "outputs": [
    {
     "data": {
      "text/plain": [
       "[<matplotlib.lines.Line2D at 0x18fbba67610>]"
      ]
     },
     "execution_count": 160,
     "metadata": {},
     "output_type": "execute_result"
    },
    {
     "data": {
      "image/png": "[encoded data removed]",
      "text/plain": [
       "<Figure size 432x288 with 1 Axes>"
      ]
     },
     "metadata": {
      "needs_background": "light"
     },
     "output_type": "display_data"
    }
   ],
   "source": [
    "plt.plot(all_data['Budget'][0:100])"
   ]
  },
  {
   "cell_type": "code",
   "execution_count": 148,
   "id": "6636c3fb",
   "metadata": {},
   "outputs": [
    {
     "data": {
      "text/plain": [
       "<AxesSubplot:xlabel='count', ylabel='Year'>"
      ]
     },
     "execution_count": 148,
     "metadata": {},
     "output_type": "execute_result"
    },
    {
     "data": {
      "image/png": "[encoded data removed]",
      "text/plain": [
       "<Figure size 1440x2304 with 1 Axes>"
      ]
     },
     "metadata": {
      "needs_background": "light"
     },
     "output_type": "display_data"
    }
   ],
   "source": [
    "plt.figure(figsize=(20,32))\n",
    "sns.countplot(y=all_data.Year, palette=\"gnuplot2_r\")"
   ]
  },
  {
   "cell_type": "code",
   "execution_count": 149,
   "id": "1250bb3c",
   "metadata": {},
   "outputs": [
    {
     "data": {
      "text/plain": [
       "<AxesSubplot:xlabel='Content Rating', ylabel='count'>"
      ]
     },
     "execution_count": 149,
     "metadata": {},
     "output_type": "execute_result"
    },
    {
     "data": {
      "image/png": "[encoded data removed]",
      "text/plain": [
       "<Figure size 1080x432 with 1 Axes>"
      ]
     },
     "metadata": {
      "needs_background": "light"
     },
     "output_type": "display_data"
    }
   ],
   "source": [
    "plt.figure(figsize=(15,6))\n",
    "sns.countplot(x='Content Rating', data=all_data)"
   ]
  },
  {
   "cell_type": "code",
   "execution_count": 181,
   "id": "3fca6d60",
   "metadata": {},
   "outputs": [
    {
     "name": "stderr",
     "output_type": "stream",
     "text": [
      "c:\\users\\dell\\appdata\\local\\programs\\python\\python39\\lib\\site-packages\\seaborn\\_decorators.py:36: FutureWarning: Pass the following variables as keyword args: x, y. From version 0.12, the only valid positional argument will be `data`, and passing other arguments without an explicit keyword will result in an error or misinterpretation.\n",
      "  warnings.warn(\n"
     ]
    },
    {
     "data": {
      "text/plain": [
       "<Figure size 1080x720 with 0 Axes>"
      ]
     },
     "execution_count": 181,
     "metadata": {},
     "output_type": "execute_result"
    },
    {
     "data": {
      "image/png": "[encoded data removed]",
      "text/plain": [
       "<Figure size 432x288 with 1 Axes>"
      ]
     },
     "metadata": {
      "needs_background": "light"
     },
     "output_type": "display_data"
    },
    {
     "data": {
      "text/plain": [
       "<Figure size 1080x720 with 0 Axes>"
      ]
     },
     "metadata": {},
     "output_type": "display_data"
    }
   ],
   "source": [
    "sd1=all_data.sort_values(\"Gross Earnings\",ascending=False)[:5]\n",
    "x1=np.array(list(sd1['Title']))\n",
    "y1=np.array(list(sd1['Gross Earnings']))\n",
    "sns.barplot(x1,y1,palette='gist_heat')\n",
    "plt.ylabel='Amount made'\n",
    "plt.figure(figsize=(15,10))"
   ]
  },
  {
   "cell_type": "code",
   "execution_count": 226,
   "id": "01e34775",
   "metadata": {},
   "outputs": [
    {
     "data": {
      "text/html": [
       "<div>\n",
       "<style scoped>\n",
       "    .dataframe tbody tr th:only-of-type {\n",
       "        vertical-align: middle;\n",
       "    }\n",
       "\n",
       "    .dataframe tbody tr th {\n",
       "        vertical-align: top;\n",
       "    }\n",
       "\n",
       "    .dataframe thead th {\n",
       "        text-align: right;\n",
       "    }\n",
       "</style>\n",
       "<table border=\"1\" class=\"dataframe\">\n",
       "  <thead>\n",
       "    <tr style=\"text-align: right;\">\n",
       "      <th></th>\n",
       "      <th>Title</th>\n",
       "      <th>Year</th>\n",
       "      <th>Genres</th>\n",
       "      <th>Language</th>\n",
       "      <th>Country</th>\n",
       "      <th>Content Rating</th>\n",
       "      <th>Duration</th>\n",
       "      <th>Aspect Ratio</th>\n",
       "      <th>Budget</th>\n",
       "      <th>Gross Earnings</th>\n",
       "      <th>...</th>\n",
       "      <th>Facebook Likes - Actor 1</th>\n",
       "      <th>Facebook Likes - Actor 2</th>\n",
       "      <th>Facebook Likes - Actor 3</th>\n",
       "      <th>Facebook Likes - cast Total</th>\n",
       "      <th>Facebook likes - Movie</th>\n",
       "      <th>Facenumber in posters</th>\n",
       "      <th>User Votes</th>\n",
       "      <th>Reviews by Users</th>\n",
       "      <th>Reviews by Crtiics</th>\n",
       "      <th>IMDB Score</th>\n",
       "    </tr>\n",
       "  </thead>\n",
       "  <tbody>\n",
       "    <tr>\n",
       "      <th>5037</th>\n",
       "      <td>War &amp; Peace</td>\n",
       "      <td>NaN</td>\n",
       "      <td>Drama|History|Romance|War</td>\n",
       "      <td>English</td>\n",
       "      <td>UK</td>\n",
       "      <td>TV-14</td>\n",
       "      <td>NaN</td>\n",
       "      <td>16.00</td>\n",
       "      <td>NaN</td>\n",
       "      <td>NaN</td>\n",
       "      <td>...</td>\n",
       "      <td>1000.0</td>\n",
       "      <td>888.0</td>\n",
       "      <td>502.0</td>\n",
       "      <td>4528</td>\n",
       "      <td>11000</td>\n",
       "      <td>1.0</td>\n",
       "      <td>9277</td>\n",
       "      <td>44.0</td>\n",
       "      <td>10.0</td>\n",
       "      <td>8.2</td>\n",
       "    </tr>\n",
       "    <tr>\n",
       "      <th>5038</th>\n",
       "      <td>Wings</td>\n",
       "      <td>NaN</td>\n",
       "      <td>Comedy|Drama</td>\n",
       "      <td>English</td>\n",
       "      <td>USA</td>\n",
       "      <td>NaN</td>\n",
       "      <td>0.008333</td>\n",
       "      <td>1.33</td>\n",
       "      <td>NaN</td>\n",
       "      <td>NaN</td>\n",
       "      <td>...</td>\n",
       "      <td>685.0</td>\n",
       "      <td>511.0</td>\n",
       "      <td>424.0</td>\n",
       "      <td>1884</td>\n",
       "      <td>1000</td>\n",
       "      <td>5.0</td>\n",
       "      <td>7646</td>\n",
       "      <td>56.0</td>\n",
       "      <td>19.0</td>\n",
       "      <td>7.3</td>\n",
       "    </tr>\n",
       "    <tr>\n",
       "      <th>5039</th>\n",
       "      <td>Wolf Creek</td>\n",
       "      <td>NaN</td>\n",
       "      <td>Drama|Horror|Thriller</td>\n",
       "      <td>English</td>\n",
       "      <td>Australia</td>\n",
       "      <td>NaN</td>\n",
       "      <td>NaN</td>\n",
       "      <td>2.00</td>\n",
       "      <td>NaN</td>\n",
       "      <td>NaN</td>\n",
       "      <td>...</td>\n",
       "      <td>511.0</td>\n",
       "      <td>457.0</td>\n",
       "      <td>206.0</td>\n",
       "      <td>1617</td>\n",
       "      <td>954</td>\n",
       "      <td>0.0</td>\n",
       "      <td>726</td>\n",
       "      <td>6.0</td>\n",
       "      <td>2.0</td>\n",
       "      <td>7.1</td>\n",
       "    </tr>\n",
       "    <tr>\n",
       "      <th>5040</th>\n",
       "      <td>Wuthering Heights</td>\n",
       "      <td>NaN</td>\n",
       "      <td>Drama|Romance</td>\n",
       "      <td>English</td>\n",
       "      <td>UK</td>\n",
       "      <td>NaN</td>\n",
       "      <td>0.039444</td>\n",
       "      <td>NaN</td>\n",
       "      <td>NaN</td>\n",
       "      <td>NaN</td>\n",
       "      <td>...</td>\n",
       "      <td>27000.0</td>\n",
       "      <td>698.0</td>\n",
       "      <td>427.0</td>\n",
       "      <td>29196</td>\n",
       "      <td>0</td>\n",
       "      <td>2.0</td>\n",
       "      <td>6053</td>\n",
       "      <td>33.0</td>\n",
       "      <td>9.0</td>\n",
       "      <td>7.7</td>\n",
       "    </tr>\n",
       "    <tr>\n",
       "      <th>5041</th>\n",
       "      <td>Yu-Gi-Oh! Duel Monsters</td>\n",
       "      <td>NaN</td>\n",
       "      <td>Action|Adventure|Animation|Family|Fantasy</td>\n",
       "      <td>Japanese</td>\n",
       "      <td>Japan</td>\n",
       "      <td>NaN</td>\n",
       "      <td>0.006667</td>\n",
       "      <td>NaN</td>\n",
       "      <td>NaN</td>\n",
       "      <td>NaN</td>\n",
       "      <td>...</td>\n",
       "      <td>0.0</td>\n",
       "      <td>NaN</td>\n",
       "      <td>NaN</td>\n",
       "      <td>0</td>\n",
       "      <td>124</td>\n",
       "      <td>0.0</td>\n",
       "      <td>12417</td>\n",
       "      <td>51.0</td>\n",
       "      <td>6.0</td>\n",
       "      <td>7.0</td>\n",
       "    </tr>\n",
       "  </tbody>\n",
       "</table>\n",
       "<p>5 rows × 25 columns</p>\n",
       "</div>"
      ],
      "text/plain": [
       "                                     Title  Year  \\\n",
       "5037              War & Peace                NaN   \n",
       "5038                    Wings                NaN   \n",
       "5039               Wolf Creek                NaN   \n",
       "5040        Wuthering Heights                NaN   \n",
       "5041  Yu-Gi-Oh! Duel Monsters                NaN   \n",
       "\n",
       "                                         Genres  Language    Country  \\\n",
       "5037                  Drama|History|Romance|War   English         UK   \n",
       "5038                               Comedy|Drama   English        USA   \n",
       "5039                      Drama|Horror|Thriller   English  Australia   \n",
       "5040                              Drama|Romance   English         UK   \n",
       "5041  Action|Adventure|Animation|Family|Fantasy  Japanese      Japan   \n",
       "\n",
       "     Content Rating  Duration  Aspect Ratio  Budget  Gross Earnings  ...  \\\n",
       "5037          TV-14       NaN         16.00     NaN             NaN  ...   \n",
       "5038            NaN  0.008333          1.33     NaN             NaN  ...   \n",
       "5039            NaN       NaN          2.00     NaN             NaN  ...   \n",
       "5040            NaN  0.039444           NaN     NaN             NaN  ...   \n",
       "5041            NaN  0.006667           NaN     NaN             NaN  ...   \n",
       "\n",
       "     Facebook Likes - Actor 1 Facebook Likes - Actor 2  \\\n",
       "5037                   1000.0                    888.0   \n",
       "5038                    685.0                    511.0   \n",
       "5039                    511.0                    457.0   \n",
       "5040                  27000.0                    698.0   \n",
       "5041                      0.0                      NaN   \n",
       "\n",
       "     Facebook Likes - Actor 3 Facebook Likes - cast Total  \\\n",
       "5037                    502.0                        4528   \n",
       "5038                    424.0                        1884   \n",
       "5039                    206.0                        1617   \n",
       "5040                    427.0                       29196   \n",
       "5041                      NaN                           0   \n",
       "\n",
       "      Facebook likes - Movie  Facenumber in posters  User Votes  \\\n",
       "5037                   11000                    1.0        9277   \n",
       "5038                    1000                    5.0        7646   \n",
       "5039                     954                    0.0         726   \n",
       "5040                       0                    2.0        6053   \n",
       "5041                     124                    0.0       12417   \n",
       "\n",
       "      Reviews by Users  Reviews by Crtiics  IMDB Score  \n",
       "5037              44.0                10.0         8.2  \n",
       "5038              56.0                19.0         7.3  \n",
       "5039               6.0                 2.0         7.1  \n",
       "5040              33.0                 9.0         7.7  \n",
       "5041              51.0                 6.0         7.0  \n",
       "\n",
       "[5 rows x 25 columns]"
      ]
     },
     "execution_count": 226,
     "metadata": {},
     "output_type": "execute_result"
    }
   ],
   "source": [
    "sd2=all_data.sort_values('Budget', ascending=False)\n",
    "sd2.tail()"
   ]
  },
  {
   "cell_type": "code",
   "execution_count": 186,
   "id": "68c681bf",
   "metadata": {},
   "outputs": [
    {
     "data": {
      "text/plain": [
       "1310                                     The Matrix \n",
       "1311        The Messenger: The Story of Joan of Arc \n",
       "1312                                       The Muse \n",
       "1313                                 The Ninth Gate \n",
       "1314                                 The Omega Code \n",
       "                            ...                     \n",
       "2428                                        Syriana \n",
       "2429                          Thank You for Smoking \n",
       "2430                         The 40-Year-Old Virgin \n",
       "2431    The Adventures of Sharkboy and Lavagirl 3-D \n",
       "2432                          The Amityville Horror \n",
       "Name: Title, Length: 1000, dtype: object"
      ]
     },
     "execution_count": 186,
     "metadata": {},
     "output_type": "execute_result"
    }
   ],
   "source": [
    "all_data['Title'][1000:2000]"
   ]
  },
  {
   "cell_type": "code",
   "execution_count": 182,
   "id": "01d0b3c6",
   "metadata": {},
   "outputs": [
    {
     "name": "stderr",
     "output_type": "stream",
     "text": [
      "c:\\users\\dell\\appdata\\local\\programs\\python\\python39\\lib\\site-packages\\seaborn\\_decorators.py:36: FutureWarning: Pass the following variables as keyword args: x, y. From version 0.12, the only valid positional argument will be `data`, and passing other arguments without an explicit keyword will result in an error or misinterpretation.\n",
      "  warnings.warn(\n"
     ]
    },
    {
     "data": {
      "text/plain": [
       "<Figure size 1080x720 with 0 Axes>"
      ]
     },
     "execution_count": 182,
     "metadata": {},
     "output_type": "execute_result"
    },
    {
     "data": {
      "image/png": "[encoded data removed]",
      "text/plain": [
       "<Figure size 432x288 with 1 Axes>"
      ]
     },
     "metadata": {
      "needs_background": "light"
     },
     "output_type": "display_data"
    },
    {
     "data": {
      "text/plain": [
       "<Figure size 1080x720 with 0 Axes>"
      ]
     },
     "metadata": {},
     "output_type": "display_data"
    }
   ],
   "source": [
    "sd1=all_data.sort_values(\"Budget\",ascending=False)[:5]\n",
    "x1=np.array(list(sd1['Title']))\n",
    "y1=np.array(list(sd1['Budget']))\n",
    "sns.barplot(x1,y1,palette='gist_heat')\n",
    "plt.ylabel='Amount made'\n",
    "plt.figure(figsize=(15,10))"
   ]
  },
  {
   "cell_type": "code",
   "execution_count": 191,
   "id": "55a2d9be",
   "metadata": {},
   "outputs": [
    {
     "data": {
      "text/plain": [
       "<AxesSubplot:xlabel='count', ylabel='Language'>"
      ]
     },
     "execution_count": 191,
     "metadata": {},
     "output_type": "execute_result"
    },
    {
     "data": {
      "image/png": "[encoded data removed]",
      "text/plain": [
       "<Figure size 1440x2304 with 1 Axes>"
      ]
     },
     "metadata": {
      "needs_background": "light"
     },
     "output_type": "display_data"
    }
   ],
   "source": [
    "plt.figure(figsize=(20,32))\n",
    "sns.countplot(y=all_data.Language, palette=\"gnuplot2_r\")"
   ]
  },
  {
   "cell_type": "code",
   "execution_count": 225,
   "id": "f42e58ff",
   "metadata": {},
   "outputs": [
    {
     "name": "stderr",
     "output_type": "stream",
     "text": [
      "c:\\users\\dell\\appdata\\local\\programs\\python\\python39\\lib\\site-packages\\seaborn\\_decorators.py:36: FutureWarning: Pass the following variables as keyword args: x, y. From version 0.12, the only valid positional argument will be `data`, and passing other arguments without an explicit keyword will result in an error or misinterpretation.\n",
      "  warnings.warn(\n"
     ]
    },
    {
     "data": {
      "text/plain": [
       "<Figure size 1080x720 with 0 Axes>"
      ]
     },
     "execution_count": 225,
     "metadata": {},
     "output_type": "execute_result"
    },
    {
     "data": {
      "image/png": "[encoded data removed]",
      "text/plain": [
       "<Figure size 432x288 with 1 Axes>"
      ]
     },
     "metadata": {
      "needs_background": "light"
     },
     "output_type": "display_data"
    },
    {
     "data": {
      "text/plain": [
       "<Figure size 1080x720 with 0 Axes>"
      ]
     },
     "metadata": {},
     "output_type": "display_data"
    }
   ],
   "source": [
    "sd1=all_data.sort_values(\"Duration\",ascending=False)[:4]\n",
    "x1=np.array(list(sd1['Title']))\n",
    "y1=np.array(list(sd1['Duration']))\n",
    "sns.barplot(x1,y1,palette='gist_heat')\n",
    "plt.ylabel='Amount made'\n",
    "plt.figure(figsize=(15,10))"
   ]
  },
  {
   "cell_type": "code",
   "execution_count": 221,
   "id": "f993c61e",
   "metadata": {},
   "outputs": [],
   "source": [
    "all_data['Duration']= all_data['Duration']/60"
   ]
  },
  {
   "cell_type": "code",
   "execution_count": 224,
   "id": "eaa442f8",
   "metadata": {},
   "outputs": [
    {
     "data": {
      "text/plain": [
       "0       0.034167\n",
       "1       0.030556\n",
       "2       0.041944\n",
       "3       0.040278\n",
       "4       0.030556\n",
       "          ...   \n",
       "5037         NaN\n",
       "5038    0.008333\n",
       "5039         NaN\n",
       "5040    0.039444\n",
       "5041    0.006667\n",
       "Name: Duration, Length: 5042, dtype: float64"
      ]
     },
     "execution_count": 224,
     "metadata": {},
     "output_type": "execute_result"
    }
   ],
   "source": [
    "all_data['Duration']"
   ]
  },
  {
   "cell_type": "code",
   "execution_count": null,
   "id": "5e94b91b",
   "metadata": {},
   "outputs": [],
   "source": []
  },
  {
   "cell_type": "code",
   "execution_count": null,
   "id": "ae0cbbce",
   "metadata": {},
   "outputs": [],
   "source": []
  },
  {
   "cell_type": "code",
   "execution_count": null,
   "id": "45bbe368",
   "metadata": {},
   "outputs": [],
   "source": []
  },
  {
   "cell_type": "code",
   "execution_count": null,
   "id": "31df33ba",
   "metadata": {},
   "outputs": [],
   "source": []
  },
  {
   "cell_type": "code",
   "execution_count": null,
   "id": "e84d6134",
   "metadata": {},
   "outputs": [],
   "source": []
  },
  {
   "cell_type": "code",
   "execution_count": null,
   "id": "fe694b55",
   "metadata": {},
   "outputs": [],
   "source": []
  }
 ],
 "metadata": {
  "kernelspec": {
   "display_name": "Python 3 (ipykernel)",
   "language": "python",
   "name": "python3"
  },
  "language_info": {
   "codemirror_mode": {
    "name": "ipython",
    "version": 3
   },
   "file_extension": ".py",
   "mimetype": "text/x-python",
   "name": "python",
   "nbconvert_exporter": "python",
   "pygments_lexer": "ipython3",
   "version": "3.9.4"
  }
 },
 "nbformat": 4,
 "nbformat_minor": 5
}
